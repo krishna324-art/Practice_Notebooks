{
  "nbformat": 4,
  "nbformat_minor": 0,
  "metadata": {
    "colab": {
      "provenance": [],
      "authorship_tag": "ABX9TyPiKCDCzn6ukL9iWxWaO+nh",
      "include_colab_link": true
    },
    "kernelspec": {
      "name": "python3",
      "display_name": "Python 3"
    },
    "language_info": {
      "name": "python"
    }
  },
  "cells": [
    {
      "cell_type": "markdown",
      "metadata": {
        "id": "view-in-github",
        "colab_type": "text"
      },
      "source": [
        "<a href=\"https://colab.research.google.com/github/krishna324-art/Practice_Notebooks/blob/main/NumpyPractice.ipynb\" target=\"_parent\"><img src=\"https://colab.research.google.com/assets/colab-badge.svg\" alt=\"Open In Colab\"/></a>"
      ]
    },
    {
      "cell_type": "code",
      "execution_count": 3,
      "metadata": {
        "id": "FbYgnoTUUY3T",
        "colab": {
          "base_uri": "https://localhost:8080/"
        },
        "outputId": "0acaa56b-cc26-4e4a-d380-e8003f5bad59"
      },
      "outputs": [
        {
          "output_type": "stream",
          "name": "stdout",
          "text": [
            "The Datatype of age is<class 'int'>\n",
            "The Datatype of weight is<class 'int'>\n",
            "The Datatype of name is<class 'str'>\n",
            "The Datatype of Marks is<class 'list'>\n",
            "your name is krishna Patel,age is 21,weight is 62kg and your marks are [45, 65, 78]\n"
          ]
        }
      ],
      "source": [
        "def Printname(name,age,weight,Marks):\n",
        "  print(f\"The Datatype of age is{type(age)}\")\n",
        "  print(f\"The Datatype of weight is{type(weight)}\")\n",
        "  print(f\"The Datatype of name is{type(name)}\")\n",
        "  print(f\"The Datatype of Marks is{type(Marks)}\")\n",
        "  return f\"your name is {name},age is {age},weight is {weight}kg and your marks are {Marks}\"\n",
        "result=Printname(\"krishna Patel\",21,62,[45,65,78])\n",
        "print(result)"
      ]
    },
    {
      "cell_type": "code",
      "source": [
        "def Even_numbers(n):\n",
        " for i in range(n):\n",
        "    if (i+1)%2==0:\n",
        "     print(i+1)\n",
        "Even_numbers(50)\n"
      ],
      "metadata": {
        "colab": {
          "base_uri": "https://localhost:8080/"
        },
        "id": "NS8gciFzYEe5",
        "outputId": "b0ee222a-af52-4e34-e723-cdeef9ee6e27"
      },
      "execution_count": 8,
      "outputs": [
        {
          "output_type": "stream",
          "name": "stdout",
          "text": [
            "2\n",
            "4\n",
            "6\n",
            "8\n",
            "10\n",
            "12\n",
            "14\n",
            "16\n",
            "18\n",
            "20\n",
            "22\n",
            "24\n",
            "26\n",
            "28\n",
            "30\n",
            "32\n",
            "34\n",
            "36\n",
            "38\n",
            "40\n",
            "42\n",
            "44\n",
            "46\n",
            "48\n",
            "50\n"
          ]
        }
      ]
    },
    {
      "cell_type": "code",
      "source": [
        "#inefficient way for matrix multiplication\n",
        "x=[1,2,3]\n",
        "y=[4,5,6]\n",
        "sum=0\n",
        "for i in range(len(x)):\n",
        "  sum=sum+x[i]*y[i]\n",
        "print(\"the sum is\",sum)"
      ],
      "metadata": {
        "colab": {
          "base_uri": "https://localhost:8080/"
        },
        "id": "7hZZVlwdYoIE",
        "outputId": "a45cdb0c-e443-4d76-e11f-fefd4c3cef53"
      },
      "execution_count": 9,
      "outputs": [
        {
          "output_type": "stream",
          "name": "stdout",
          "text": [
            "the sum is 32\n"
          ]
        }
      ]
    },
    {
      "cell_type": "code",
      "source": [
        "import numpy as np\n",
        "a=np.array([1,2,3])#1Darray\n",
        "b=np.array([4,5,6])\n",
        "c=np.array([[1,2,3],[4,5,10]])#2Darray"
      ],
      "metadata": {
        "id": "Qh1MUZ23avMn"
      },
      "execution_count": 25,
      "outputs": []
    },
    {
      "cell_type": "code",
      "source": [
        "#broadcasting\n",
        "a=a*2\n",
        "print(a)\n",
        "\n",
        "np.log10(c)\n",
        "print(c[1][1])"
      ],
      "metadata": {
        "colab": {
          "base_uri": "https://localhost:8080/"
        },
        "id": "h3FZQkCecHCV",
        "outputId": "047c3ae0-1705-4f47-9945-c04b340b3907"
      },
      "execution_count": 34,
      "outputs": [
        {
          "output_type": "stream",
          "name": "stdout",
          "text": [
            "[128 256 384]\n",
            "5\n"
          ]
        }
      ]
    },
    {
      "cell_type": "code",
      "source": [
        "np.sqrt(c)"
      ],
      "metadata": {
        "colab": {
          "base_uri": "https://localhost:8080/"
        },
        "id": "62-fmV6KcWol",
        "outputId": "35fc035e-4f7e-4bdc-dfc5-2cc4d1b184a1"
      },
      "execution_count": 29,
      "outputs": [
        {
          "output_type": "execute_result",
          "data": {
            "text/plain": [
              "array([[1.        , 1.41421356, 1.73205081],\n",
              "       [2.        , 2.23606798, 3.16227766]])"
            ]
          },
          "metadata": {},
          "execution_count": 29
        }
      ]
    },
    {
      "cell_type": "code",
      "source": [
        "#reshaping and aggreagatioc\n",
        "d=np.array([1,2,3,4,5,6])\n",
        "d=np.reshape(d,(2,3))\n",
        "s=np.reshape(d,(3,2))\n",
        "print(s)\n",
        "print(d)\n"
      ],
      "metadata": {
        "colab": {
          "base_uri": "https://localhost:8080/"
        },
        "id": "cvp_nKRaeOK1",
        "outputId": "e3607bb5-82e1-4e92-edc2-fdb622afba82"
      },
      "execution_count": 46,
      "outputs": [
        {
          "output_type": "stream",
          "name": "stdout",
          "text": [
            "[[1 2]\n",
            " [3 4]\n",
            " [5 6]]\n",
            "[[1 2 3]\n",
            " [4 5 6]]\n"
          ]
        }
      ]
    },
    {
      "cell_type": "code",
      "source": [
        "k=np.array([[1,2,3],[4,5,6]])\n",
        "print(np.sum(k,axis=0))\n",
        "print(np.sum(k,axis=1))\n",
        "print(np.mean(k,axis=0))"
      ],
      "metadata": {
        "colab": {
          "base_uri": "https://localhost:8080/"
        },
        "id": "RChbX9Hlg-P4",
        "outputId": "817b84a0-a470-4f12-e01a-4e2053ebd24b"
      },
      "execution_count": 51,
      "outputs": [
        {
          "output_type": "stream",
          "name": "stdout",
          "text": [
            "[5 7 9]\n",
            "[ 6 15]\n",
            "[2.5 3.5 4.5]\n"
          ]
        }
      ]
    },
    {
      "cell_type": "code",
      "source": [
        "import numpy as np\n",
        "import time\n",
        "#size of array\n",
        "N=100000\n",
        "list1=list(range(N))\n",
        "list2=list(range(N))\n",
        "start=time.time()\n",
        "result=[list1[i]*list2[i] for i in range(N)]\n",
        "end=time.time()\n",
        "print(\"python list time:\",round(end-start,5),\"seconds\")\n",
        "#using numpy\n",
        "array1=np.arange(N)\n",
        "array2=np.arange(N)\n",
        "start=time.time()\n",
        "result=array1*array2\n",
        "end=time.time()\n",
        "print(\"numpy time:\",round(end-start,5),\"seconds\")"
      ],
      "metadata": {
        "colab": {
          "base_uri": "https://localhost:8080/"
        },
        "id": "WnMGfYH-hJ_s",
        "outputId": "5ad5022d-a2c7-4c6a-a841-f02fb2f5ed5e"
      },
      "execution_count": 57,
      "outputs": [
        {
          "output_type": "stream",
          "name": "stdout",
          "text": [
            "python list time: 0.0138 seconds\n",
            "numpy time: 0.00215 seconds\n"
          ]
        }
      ]
    },
    {
      "cell_type": "code",
      "source": [
        "import random\n",
        "n=5\n",
        "a=[]\n",
        "for i in range(n):\n",
        "  a.append([0]*n)\n",
        "for i in range(n):\n",
        "  for j in range(n):\n",
        "    a[i][j]=random.random()\n",
        "print(a)"
      ],
      "metadata": {
        "colab": {
          "base_uri": "https://localhost:8080/"
        },
        "id": "ul9qy0QGkAGc",
        "outputId": "c2dca5c4-5169-4095-c2d5-a1ee73a5601b"
      },
      "execution_count": 56,
      "outputs": [
        {
          "output_type": "stream",
          "name": "stdout",
          "text": [
            "[[0.09277234830124403, 0.9730727082278481, 0.24724556781040463, 0.41181631631354665, 0.2723573586107877], [0.07509118625989608, 0.8123090435106043, 0.4807448485118919, 0.21630855534856286, 0.9046930873485709], [0.46760297856534516, 0.06620700269585844, 0.899388843992095, 0.04673676256488202, 0.894982996676304], [0.17297268128227794, 0.1367526624313007, 0.17900359257861964, 0.7908780422129431, 0.305054021722693], [0.023858143382513464, 0.6017667001612207, 0.1588986205263897, 0.4191538901489883, 0.7317143880520852]]\n"
          ]
        }
      ]
    },
    {
      "cell_type": "code",
      "source": [
        "A=np.array([[20,79,54],[45,65,89],[23,100,71],[88,55,90],[30,20,70]])\n",
        "print(A)\n",
        "meanscore=np.mean(A,axis=1)\n",
        "print(meanscore)\n",
        "subject_topscore=np.max(A,axis=0)\n",
        "print(subject_topscore)\n",
        "print(\"subject topper\",np.argmax(A,axis=0))\n",
        "\n",
        "print(\"overall topper is studnet \",np.argmax(np.sum(A,axis=1))+1)"
      ],
      "metadata": {
        "colab": {
          "base_uri": "https://localhost:8080/"
        },
        "id": "w90syW94l7Ud",
        "outputId": "ca544ad2-39cd-45a3-e0c6-854eb8a42efc"
      },
      "execution_count": 79,
      "outputs": [
        {
          "output_type": "stream",
          "name": "stdout",
          "text": [
            "[[ 20  79  54]\n",
            " [ 45  65  89]\n",
            " [ 23 100  71]\n",
            " [ 88  55  90]\n",
            " [ 30  20  70]]\n",
            "[51.         66.33333333 64.66666667 77.66666667 40.        ]\n",
            "[ 88 100  90]\n",
            "subject topper [3 2 3]\n",
            "overall topper is studnet  4\n"
          ]
        }
      ]
    },
    {
      "cell_type": "code",
      "source": [
        "\n"
      ],
      "metadata": {
        "id": "jmQao6eIqJ6u"
      },
      "execution_count": null,
      "outputs": []
    }
  ]
}