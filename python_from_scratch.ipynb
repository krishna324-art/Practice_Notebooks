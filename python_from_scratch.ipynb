{
  "nbformat": 4,
  "nbformat_minor": 0,
  "metadata": {
    "colab": {
      "provenance": [],
      "include_colab_link": true
    },
    "kernelspec": {
      "name": "python3",
      "display_name": "Python 3"
    },
    "language_info": {
      "name": "python"
    }
  },
  "cells": [
    {
      "cell_type": "markdown",
      "metadata": {
        "id": "view-in-github",
        "colab_type": "text"
      },
      "source": [
        "<a href=\"https://colab.research.google.com/github/krishna324-art/Practice_Notebooks/blob/main/python_from_scratch.ipynb\" target=\"_parent\"><img src=\"https://colab.research.google.com/assets/colab-badge.svg\" alt=\"Open In Colab\"/></a>"
      ]
    },
    {
      "cell_type": "code",
      "source": [
        "#matrix multiplication from scratch\n",
        "m1=[[1,2,3],[4,5,6]]#p,q\n",
        "m2=[[7,10],[8,11],[9,12]]#q,r"
      ],
      "metadata": {
        "id": "1l82ZTP7QQ-S"
      },
      "execution_count": 1,
      "outputs": []
    },
    {
      "cell_type": "code",
      "source": [
        "# #check the dimensions\n",
        "# p=len(m1)\n",
        "# q1=len(m1[0])\n",
        "# q2=len(m2)\n",
        "# r=len(m2[1])\n",
        "# print(p,q1,q2,r)"
      ],
      "metadata": {
        "id": "sj2wHRXxjtPi"
      },
      "execution_count": 2,
      "outputs": []
    },
    {
      "cell_type": "code",
      "source": [
        "def matmul(m1,m2):\n",
        "\n",
        "  p=len(m1)\n",
        "  q1=len(m1[0])\n",
        "  q2=len(m2)\n",
        "  r=len(m2[0])\n",
        "\n",
        "  m3row = []\n",
        "  m3=[]\n",
        "\n",
        "  if q1==q2:\n",
        "     q=q1\n",
        "\n",
        "     m3row = []\n",
        "     m3=[]\n",
        "     for i in range (p):\n",
        "      for j in range (r):\n",
        "       m3row.append(0)\n",
        "      m3.append(m3row)\n",
        "      m3row=[]\n",
        "\n",
        "     for k in range (p):\n",
        "      for j in range (r):\n",
        "        for i in range (q):\n",
        "          m3[k][j]=m3[k][j]+m1[k][i]*m2[i][j]\n",
        "     return m3\n",
        "  else:\n",
        "    print(\"dimension mismatched\")\n",
        "    return"
      ],
      "metadata": {
        "id": "g4BecVNhj0F7"
      },
      "execution_count": 3,
      "outputs": []
    },
    {
      "cell_type": "code",
      "source": [
        "m1=[[1,2,3],[4,5,6]]#p,q\n",
        "m2=[[7,10],[8,11],[9,12]]#q,r\n",
        "result=matmul(m1,m2)\n",
        "print(result)"
      ],
      "metadata": {
        "colab": {
          "base_uri": "https://localhost:8080/"
        },
        "id": "HRLoORn8lc2b",
        "outputId": "d7039917-7b62-45a0-e197-d3ea15fe815d"
      },
      "execution_count": 4,
      "outputs": [
        {
          "output_type": "stream",
          "name": "stdout",
          "text": [
            "[[50, 68], [122, 167]]\n"
          ]
        }
      ]
    },
    {
      "cell_type": "code",
      "source": [
        "class Dog:\n",
        "   def __init__(self,name,age):\n",
        "      self.name=name\n",
        "      self.age=age\n",
        "   def bark(self):\n",
        "      print(f\"{self.name} says woof!\")\n",
        "my_dog=Dog(\"charly\",20)\n",
        "my_dog.bark()\n",
        "print(\"the name is\",my_dog.name)\n",
        "print(\"the age is\",my_dog.age)\n",
        "your_dog=Dog(\"sehru\",3)\n",
        "your_dog.bark()\n",
        "print(\"the age of\",your_dog.name,\"is\",your_dog.age)\n"
      ],
      "metadata": {
        "colab": {
          "base_uri": "https://localhost:8080/"
        },
        "id": "4zmq84yNopcs",
        "outputId": "5deb91fb-8816-4a61-88e7-0a94b698daac"
      },
      "execution_count": 5,
      "outputs": [
        {
          "output_type": "stream",
          "name": "stdout",
          "text": [
            "charly says woof!\n",
            "the name is charly\n",
            "the age is 20\n",
            "sehru says woof!\n",
            "the age of sehru is 3\n"
          ]
        }
      ]
    },
    {
      "cell_type": "code",
      "source": [
        "#using classes for machine learning\n",
        "import numpy as np\n",
        "class LinearRegression:\n",
        "  def __init__(self,learning_rate=0.01,epochs=100):\n",
        "    self.learning_rate=learning_rate\n",
        "    self.epochs=epochs\n",
        "    self.weights=0\n",
        "    self.bias=0\n",
        "  def predict (self,X):\n",
        "    return self.weights * X + self.bias\n",
        "  def compute_loss(self,y_true,y_pred):\n",
        "    return np.mean((y_true-y_pred)**2)\n",
        "  def fit(self,X,y):\n",
        "    n=len(X)\n",
        "    for i in range(self.epochs):\n",
        "      y_pred= self.predict(X)\n",
        "      dw=(-2/n)*np.sum(X*(y-y_pred))\n",
        "      db=(-2/n)*np.sum(y-y_pred)\n",
        "      self.weights -= self.learning_rate*dw\n",
        "      self.bias -= self.learning_rate*db\n",
        "\n",
        "\n",
        "      if i % 1000== 0:\n",
        "        loss=self.compute_loss(y,y_pred)\n",
        "        print(f\"Epoch{i},loss:{loss:.4f},weight:{self.weights:.4f},Bias:{self.bias:.4f}\") # Correct typo self.wweight to self.weights\n",
        "  def  evaluate(self,X,y):\n",
        "    y_pred=self.predict(X)\n",
        "    loss= self.compute_loss(y,y_pred)\n",
        "    print(f\"final loss:{loss:.4f}\")"
      ],
      "metadata": {
        "id": "6kQbr1kH6Qfg"
      },
      "execution_count": 6,
      "outputs": []
    },
    {
      "cell_type": "code",
      "source": [
        "#creating the dummy dataset\n",
        "X=np.array([1,2,3,4,5],dtype=np.float32)\n",
        "y=np.array([3,7,8,13,14],dtype=np.float32)\n",
        "\n",
        "X2=np.array([1,2,3,4,5],dtype=np.float32)\n",
        "y2=np.array([2,4,6,8,10],dtype=np.float32)\n",
        "#create the instance of our class\n",
        "model=LinearRegression(learning_rate=0.01,epochs=2000)\n",
        "model2=LinearRegression(learning_rate=0.01,epochs=2000)\n",
        "#train\n",
        "model.fit(X,y)\n",
        "model2.fit(X2,y2)\n",
        "#evaluate the model\n",
        "model.evaluate(X,y)\n",
        "model2.evaluate(X2,y2)\n",
        "#make a prediction\n",
        "print(\"The predicted house price size model 1\",model.predict(9))\n",
        "print(\"The predicted house price size model 2\",model2.predict(9))\n",
        "\n"
      ],
      "metadata": {
        "colab": {
          "base_uri": "https://localhost:8080/"
        },
        "id": "gL0j8HulFXxz",
        "outputId": "83a4fb25-9d0e-421e-96b3-c5e7ba071e4a"
      },
      "execution_count": 7,
      "outputs": [
        {
          "output_type": "stream",
          "name": "stdout",
          "text": [
            "Epoch0,loss:97.4000,weight:0.6520,Bias:0.1800\n",
            "Epoch1000,loss:0.7200,weight:2.7985,Bias:0.6055\n",
            "Epoch0,loss:44.0000,weight:0.4400,Bias:0.1200\n",
            "Epoch1000,loss:0.0001,weight:1.9952,Bias:0.0173\n",
            "final loss:0.7200\n",
            "final loss:0.0000\n",
            "The predicted house price size model 1 25.79972\n",
            "The predicted house price size model 2 17.99912\n"
          ]
        }
      ]
    },
    {
      "cell_type": "code",
      "source": [
        "#building a simple neural network\n",
        "#binary classification\n",
        "#input layer : 2 neurons(x1,x2)\n",
        "#hidden layer:2 neurons,with relu activation\n",
        "#output layer:1 neuron, with sigmoid activation (since its a binary classification)\n",
        "import numpy as np\n",
        " #activation functions\n",
        "def sigmoid(x):\n",
        "  return 1/(1+np.exp(-x))\n",
        "def sigmoid_derivative(x):\n",
        "  return sigmoid(x)*(1-sigmoid(x))\n",
        "def relu(x):\n",
        "  return np.maximum(0, x)\n",
        "def relu_derivative(x):\n",
        "  return (x>0).astype(float)\n",
        "\n",
        "class simpleNeuralNetwork:\n",
        "  def __init__(self,input_size=2,hidden_size=2,learning_rate=0.1,epochs=100):\n",
        "    self.w1=np.random.randn(input_size,hidden_size)\n",
        "    self.b1=np.zeros((1,hidden_size))\n",
        "    self.w2=np.random.randn(hidden_size,1)\n",
        "    self.b2=np.zeros((1,1))\n",
        "    self.lr=learning_rate\n",
        "    self.epochs=epochs\n",
        "\n",
        "  def forward(self,X):\n",
        "    self.z1=np.dot(X, self.w1)+self.b1\n",
        "    self.a1 = relu(self.z1)\n",
        "    self.z2=np.dot(self.a1,self.w2)+self.b2\n",
        "    self.a2=sigmoid(self.z2)\n",
        "    return self.a2\n",
        "\n",
        "  def compute_loss(self,y_true,y_pred):\n",
        "    #binary cross entropy loss formula\n",
        "    return -np.mean(y_true*np.log(y_pred+1e-8)+(1-y_true)\n",
        "      *np.log(1-y_pred+1e-8))\n",
        "  def backward(self,X,y_true,y_pred):\n",
        "    m=X.shape[0]\n",
        "\n",
        "    dz2=y_pred-y_true\n",
        "    dw2=np.dot(self.a1.T,dz2)/m\n",
        "    db2=np.sum(dz2,axis=0,keepdims=True)/m\n",
        "\n",
        "    dz1=np.dot(dz2,self.w2.T)*relu_derivative(self.z1)\n",
        "\n",
        "    dw1=np.dot(X.T,dz1)/m\n",
        "    db1=np.sum(dz1,axis=0,keepdims=True)/m\n",
        "    #update the weights and biases\n",
        "    self.w1-=self.lr*dw1\n",
        "    self.b1-=self.lr*db1\n",
        "    self.w2-=self.lr*dw2\n",
        "    self.b2-=self.lr*db2\n",
        "  def fit(self,X,y):\n",
        "    for  i in range(self.epochs):\n",
        "      y_pred=self.forward(X)\n",
        "      loss= self.compute_loss(y,y_pred)\n",
        "      self.backward(X,y,y_pred)\n",
        "      if i%100==0:\n",
        "        print(f\"Epoch{i},loss:{loss:.4f}\")\n",
        "  def predict(self,X):\n",
        "    probs=self.forward(X)\n",
        "    return(probs>0.5).astype(int).reshape(-1,1)"
      ],
      "metadata": {
        "id": "COtGutYoJNvn"
      },
      "execution_count": 8,
      "outputs": []
    },
    {
      "cell_type": "code",
      "source": [
        "#create Dataset\n",
        "np.random.seed(0)\n",
        "X=np.random.rand(100,2)\n",
        "y=((X[:,1]>X[:,0]).astype(int)).reshape(-1,1)#1 if y>x else 0\n",
        "#Initialize and train model\n",
        "nn=simpleNeuralNetwork(epochs=2000)\n",
        "nn.fit(X,y)\n",
        "#predict on few points\n",
        "test_points=np.array([[0.2,0.8],[0.9,0.1],[0.4,0.5]])\n",
        "predictions=nn.predict(test_points)\n",
        "print(\"predictions are:\",predictions)"
      ],
      "metadata": {
        "colab": {
          "base_uri": "https://localhost:8080/"
        },
        "id": "0DKGcBOMQosK",
        "outputId": "3d71ecf4-fd8b-4f5c-91c7-4cf991f436df"
      },
      "execution_count": 9,
      "outputs": [
        {
          "output_type": "stream",
          "name": "stdout",
          "text": [
            "Epoch0,loss:0.6452\n",
            "Epoch100,loss:0.4378\n",
            "Epoch200,loss:0.3089\n",
            "Epoch300,loss:0.2341\n",
            "Epoch400,loss:0.1883\n",
            "Epoch500,loss:0.1579\n",
            "Epoch600,loss:0.1368\n",
            "Epoch700,loss:0.1212\n",
            "Epoch800,loss:0.1092\n",
            "Epoch900,loss:0.0996\n",
            "Epoch1000,loss:0.0919\n",
            "Epoch1100,loss:0.0855\n",
            "Epoch1200,loss:0.0802\n",
            "Epoch1300,loss:0.0757\n",
            "Epoch1400,loss:0.0717\n",
            "Epoch1500,loss:0.0683\n",
            "Epoch1600,loss:0.0652\n",
            "Epoch1700,loss:0.0625\n",
            "Epoch1800,loss:0.0601\n",
            "Epoch1900,loss:0.0579\n",
            "predictions are: [[1]\n",
            " [0]\n",
            " [1]]\n"
          ]
        }
      ]
    },
    {
      "cell_type": "code",
      "source": [
        "print(\"Raw probabilities:\", nn.forward(test_points))\n"
      ],
      "metadata": {
        "colab": {
          "base_uri": "https://localhost:8080/"
        },
        "id": "O3vllp42ZoWg",
        "outputId": "aa8115f3-7eec-4a4f-dc32-93a54f7590f4"
      },
      "execution_count": 10,
      "outputs": [
        {
          "output_type": "stream",
          "name": "stdout",
          "text": [
            "Raw probabilities: [[9.82203120e-01]\n",
            " [2.83396886e-09]\n",
            " [9.51945215e-01]]\n"
          ]
        }
      ]
    },
    {
      "cell_type": "code",
      "source": [],
      "metadata": {
        "id": "Jm3x8qa1Zq6V"
      },
      "execution_count": null,
      "outputs": []
    }
  ]
}